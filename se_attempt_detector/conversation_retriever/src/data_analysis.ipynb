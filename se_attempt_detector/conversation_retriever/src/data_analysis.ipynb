{
 "cells": [
  {
   "cell_type": "code",
   "execution_count": 2,
   "metadata": {},
   "outputs": [
    {
     "name": "stdout",
     "output_type": "stream",
     "text": [
      "Archive:  social_engineering_hackathon.zip\n",
      "  inflating: social_engineering_hackathon/dataREADME.md  \n",
      "  inflating: social_engineering_hackathon/labeled_test.json  \n",
      "  inflating: social_engineering_hackathon/labeled_train.json  \n",
      "  inflating: social_engineering_hackathon/unlabeled_test.json  \n",
      "  inflating: social_engineering_hackathon/unlabeled_train.json  \n"
     ]
    }
   ],
   "source": [
    "!unzip \"social_engineering_hackathon.zip\" -d \"social_engineering_hackathon/\""
   ]
  },
  {
   "cell_type": "code",
   "execution_count": 2,
   "metadata": {},
   "outputs": [],
   "source": [
    "import json\n",
    "\n",
    "# Load the JSON file\n",
    "with open(\"labeled_trainV2.json\", \"r\") as file:\n",
    "    lbl_train_data = json.load(file)\n",
    "\n",
    "with open(\"labeled_testV2.json\", \"r\") as file:\n",
    "    lbl_test_data = json.load(file)\n",
    "\n",
    "with open(\"unlabeled_trainV2.json\", \"r\") as file:\n",
    "    unlbl_train_data = json.load(file)\n",
    "\n",
    "with open(\"unlabeled_testV2.json\", \"r\") as file:\n",
    "    unlbl_test_data = json.load(file)"
   ]
  },
  {
   "cell_type": "code",
   "execution_count": 3,
   "metadata": {},
   "outputs": [
    {
     "name": "stdout",
     "output_type": "stream",
     "text": [
      "#Labeled Training Data Samples:  40\n",
      "#Labeled Test Data Samples:  360\n",
      "#Unlabeled Training Data Samples:  100\n",
      "#Unlabeled Test Data Samples:  900\n"
     ]
    }
   ],
   "source": [
    "print(\"#Labeled Training Data Samples: \", len(lbl_train_data['Conversations']))\n",
    "print(\"#Labeled Test Data Samples: \", len(lbl_test_data['Conversations']))\n",
    "\n",
    "print(\"#Unlabeled Training Data Samples: \", len(unlbl_train_data['Conversations']))\n",
    "print(\"#Unlabeled Test Data Samples: \", len(unlbl_test_data['Conversations']))\n"
   ]
  },
  {
   "cell_type": "code",
   "execution_count": 4,
   "metadata": {},
   "outputs": [
    {
     "ename": "",
     "evalue": "",
     "output_type": "error",
     "traceback": [
      "\u001b[1;31mThe Kernel crashed while executing code in the the current cell or a previous cell. Please review the code in the cell(s) to identify a possible cause of the failure. Click <a href='https://aka.ms/vscodeJupyterKernelCrash'>here</a> for more info. View Jupyter <a href='command:jupyter.viewOutput'>log</a> for further details."
     ]
    }
   ],
   "source": [
    "import json\n",
    "import torch\n",
    "import copy\n",
    "from tqdm import tqdm\n",
    "from src.models.vectorizer import VectorizeModel\n",
    "from src.retriever.vector.vector_searcher import VecSearcher "
   ]
  },
  {
   "cell_type": "code",
   "execution_count": 4,
   "metadata": {},
   "outputs": [],
   "source": [
    "lbl_train_data[\"Conversations\"][0].keys()\n",
    "\n",
    "lbl_train_data[\"Conversations\"][0]['GroundTruth']\n",
    "\n",
    "## representation 1: each message as a row in a pandas frame\n",
    "\n",
    "import pandas as pd\n",
    "conversation_data = []\n",
    "\n",
    "for idx, conversation in enumerate(lbl_train_data['Conversations']):\n",
    "    try:\n",
    "      item = conversation['Conversation']\n",
    "    except:\n",
    "      item = conversation['Conversations']\n",
    "\n",
    "    for message in item:\n",
    "        if 'Name' not in message.keys():\n",
    "          message['Name'] = ''\n",
    "        if 'Message' not in message.keys():\n",
    "          message['Message'] = ''\n",
    "\n",
    "        details = {\n",
    "            \"Conversation_ID\": idx,\n",
    "            \"Sender\": message['Name'],\n",
    "            \"Message\": message['Message']\n",
    "        }\n",
    "\n",
    "        details.update(conversation['GroundTruth'])\n",
    "        conversation_data.append(details)\n",
    "\n",
    "conversations_df = pd.DataFrame(conversation_data)\n",
    "\n",
    "conversations_df.head()\n",
    "\n",
    "count_df = conversations_df[['Conversation_ID','Message']].groupby('Conversation_ID').count()"
   ]
  },
  {
   "cell_type": "code",
   "execution_count": 8,
   "metadata": {},
   "outputs": [
    {
     "data": {
      "image/png": "[encoded data removed]",
      "text/plain": [
       "<Figure size 640x480 with 1 Axes>"
      ]
     },
     "metadata": {},
     "output_type": "display_data"
    }
   ],
   "source": [
    "from matplotlib import pyplot as plt\n",
    "count_df['Message'].plot(kind='hist', bins=20, title='Message')\n",
    "plt.gca().spines[['top', 'right',]].set_visible(False)"
   ]
  },
  {
   "cell_type": "code",
   "execution_count": 5,
   "metadata": {},
   "outputs": [
    {
     "name": "stderr",
     "output_type": "stream",
     "text": [
      "40it [00:00, 219884.88it/s]"
     ]
    },
    {
     "name": "stderr",
     "output_type": "stream",
     "text": [
      "\n"
     ]
    },
    {
     "data": {
      "text/html": [
       "<div>\n",
       "<style scoped>\n",
       "    .dataframe tbody tr th:only-of-type {\n",
       "        vertical-align: middle;\n",
       "    }\n",
       "\n",
       "    .dataframe tbody tr th {\n",
       "        vertical-align: top;\n",
       "    }\n",
       "\n",
       "    .dataframe thead th {\n",
       "        text-align: right;\n",
       "    }\n",
       "</style>\n",
       "<table border=\"1\" class=\"dataframe\">\n",
       "  <thead>\n",
       "    <tr style=\"text-align: right;\">\n",
       "      <th></th>\n",
       "      <th>Conversation</th>\n",
       "      <th>IsMalicious</th>\n",
       "      <th>FirstPII</th>\n",
       "      <th>NumPIIMessages</th>\n",
       "      <th>PII</th>\n",
       "      <th>Multi</th>\n",
       "      <th>Scenario</th>\n",
       "      <th>Ambiguity</th>\n",
       "      <th>ConversationID</th>\n",
       "    </tr>\n",
       "  </thead>\n",
       "  <tbody>\n",
       "    <tr>\n",
       "      <th>0</th>\n",
       "      <td>[{'Name': 'Debbie', 'Message': 'Hi Frank, I've...</td>\n",
       "      <td>True</td>\n",
       "      <td>2</td>\n",
       "      <td>6</td>\n",
       "      <td>[{'Name': 'Graduation Year', 'Messages': [2]},...</td>\n",
       "      <td>False</td>\n",
       "      <td>Simple Examples</td>\n",
       "      <td>1</td>\n",
       "      <td>1000</td>\n",
       "    </tr>\n",
       "    <tr>\n",
       "      <th>1</th>\n",
       "      <td>[{'Name': 'Shirley', 'Message': 'Hello Lindsay...</td>\n",
       "      <td>False</td>\n",
       "      <td>-1</td>\n",
       "      <td>0</td>\n",
       "      <td>[]</td>\n",
       "      <td>True</td>\n",
       "      <td>Academic Funding</td>\n",
       "      <td>1</td>\n",
       "      <td>1001</td>\n",
       "    </tr>\n",
       "    <tr>\n",
       "      <th>2</th>\n",
       "      <td>[{'Name': 'Arthur', 'Message': 'Hello Josephin...</td>\n",
       "      <td>False</td>\n",
       "      <td>-1</td>\n",
       "      <td>0</td>\n",
       "      <td>[]</td>\n",
       "      <td>True</td>\n",
       "      <td>Recruitment</td>\n",
       "      <td>1</td>\n",
       "      <td>1002</td>\n",
       "    </tr>\n",
       "    <tr>\n",
       "      <th>3</th>\n",
       "      <td>[{'Name': 'James', 'Message': 'Hi Blake, I cam...</td>\n",
       "      <td>False</td>\n",
       "      <td>-1</td>\n",
       "      <td>0</td>\n",
       "      <td>[]</td>\n",
       "      <td>False</td>\n",
       "      <td>Simple Examples</td>\n",
       "      <td>1</td>\n",
       "      <td>1003</td>\n",
       "    </tr>\n",
       "    <tr>\n",
       "      <th>4</th>\n",
       "      <td>[{'Name': 'William', 'Message': 'Hello Anita, ...</td>\n",
       "      <td>True</td>\n",
       "      <td>4</td>\n",
       "      <td>1</td>\n",
       "      <td>[{'Name': 'project details', 'Messages': [4]}]</td>\n",
       "      <td>True</td>\n",
       "      <td>Academic Collaboration</td>\n",
       "      <td>1</td>\n",
       "      <td>1004</td>\n",
       "    </tr>\n",
       "  </tbody>\n",
       "</table>\n",
       "</div>"
      ],
      "text/plain": [
       "                                        Conversation  IsMalicious  FirstPII  \\\n",
       "0  [{'Name': 'Debbie', 'Message': 'Hi Frank, I've...         True         2   \n",
       "1  [{'Name': 'Shirley', 'Message': 'Hello Lindsay...        False        -1   \n",
       "2  [{'Name': 'Arthur', 'Message': 'Hello Josephin...        False        -1   \n",
       "3  [{'Name': 'James', 'Message': 'Hi Blake, I cam...        False        -1   \n",
       "4  [{'Name': 'William', 'Message': 'Hello Anita, ...         True         4   \n",
       "\n",
       "   NumPIIMessages                                                PII  Multi  \\\n",
       "0               6  [{'Name': 'Graduation Year', 'Messages': [2]},...  False   \n",
       "1               0                                                 []   True   \n",
       "2               0                                                 []   True   \n",
       "3               0                                                 []  False   \n",
       "4               1     [{'Name': 'project details', 'Messages': [4]}]   True   \n",
       "\n",
       "                 Scenario  Ambiguity  ConversationID  \n",
       "0         Simple Examples          1            1000  \n",
       "1        Academic Funding          1            1001  \n",
       "2             Recruitment          1            1002  \n",
       "3         Simple Examples          1            1003  \n",
       "4  Academic Collaboration          1            1004  "
      ]
     },
     "execution_count": 5,
     "metadata": {},
     "output_type": "execute_result"
    }
   ],
   "source": [
    "import pandas as pd\n",
    "from tqdm import tqdm\n",
    "\n",
    "conversation_data = []\n",
    "\n",
    "for idx, conversation in tqdm(enumerate(lbl_train_data['Conversations'])):\n",
    "\n",
    "    try:\n",
    "      row = {\"Conversation\": conversation['Conversation']}\n",
    "    except:\n",
    "      row = {\"Conversation\": conversation['Conversations']}\n",
    "\n",
    "    row.update(conversation['GroundTruth'])\n",
    "    conversation_data.append(row)\n",
    "\n",
    "conversations_df = pd.DataFrame(conversation_data)\n",
    "\n",
    "conversations_df.head()"
   ]
  },
  {
   "cell_type": "code",
   "execution_count": 6,
   "metadata": {},
   "outputs": [
    {
     "name": "stdout",
     "output_type": "stream",
     "text": [
      "{2: ['Graduation Year'], 4: ['Namesakes/Name Story'], 6: ['Full Name', 'Contact Information'], 8: ['Hometown'], 10: ['Common Values/Stories'], 12: ['Date of Birth']}\n"
     ]
    }
   ],
   "source": [
    "def conv_pii_dict(pii):\n",
    "    result = {}\n",
    "    for items in  pii:\n",
    "        for index in items['Messages']:\n",
    "            if index not in result:\n",
    "                result[index] = []\n",
    "            result[index].append(items['Name'])\n",
    "    return result\n",
    "print(conv_pii_dict(conversations_df['PII'][0]))"
   ]
  },
  {
   "cell_type": "code",
   "execution_count": null,
   "metadata": {},
   "outputs": [],
   "source": []
  },
  {
   "cell_type": "code",
   "execution_count": 11,
   "metadata": {},
   "outputs": [
    {
     "data": {
      "text/html": [
       "<div>\n",
       "<style scoped>\n",
       "    .dataframe tbody tr th:only-of-type {\n",
       "        vertical-align: middle;\n",
       "    }\n",
       "\n",
       "    .dataframe tbody tr th {\n",
       "        vertical-align: top;\n",
       "    }\n",
       "\n",
       "    .dataframe thead th {\n",
       "        text-align: right;\n",
       "    }\n",
       "</style>\n",
       "<table border=\"1\" class=\"dataframe\">\n",
       "  <thead>\n",
       "    <tr style=\"text-align: right;\">\n",
       "      <th></th>\n",
       "      <th>0</th>\n",
       "      <th>1</th>\n",
       "    </tr>\n",
       "  </thead>\n",
       "  <tbody>\n",
       "    <tr>\n",
       "      <th>0</th>\n",
       "      <td>[{\"Name\": \"Debbie\", \"Message\": \"Hi Frank, I've...</td>\n",
       "      <td>{'Is_Malicious': True, 'pii_type': [], 'Scenar...</td>\n",
       "    </tr>\n",
       "    <tr>\n",
       "      <th>1</th>\n",
       "      <td>[{\"Name\": \"Debbie\", \"Message\": \"Hi Frank, I've...</td>\n",
       "      <td>{'Is_Malicious': True, 'pii_type': [], 'Scenar...</td>\n",
       "    </tr>\n",
       "    <tr>\n",
       "      <th>2</th>\n",
       "      <td>[{\"Name\": \"Debbie\", \"Message\": \"Hi Frank, I've...</td>\n",
       "      <td>{'Is_Malicious': True, 'pii_type': [], 'Scenar...</td>\n",
       "    </tr>\n",
       "    <tr>\n",
       "      <th>3</th>\n",
       "      <td>[{\"Name\": \"Debbie\", \"Message\": \"I'm looking in...</td>\n",
       "      <td>{'Is_Malicious': True, 'pii_type': [], 'Scenar...</td>\n",
       "    </tr>\n",
       "    <tr>\n",
       "      <th>4</th>\n",
       "      <td>[{\"Name\": \"Debbie\", \"Message\": \"She was a lite...</td>\n",
       "      <td>{'Is_Malicious': True, 'pii_type': [], 'Scenar...</td>\n",
       "    </tr>\n",
       "  </tbody>\n",
       "</table>\n",
       "</div>"
      ],
      "text/plain": [
       "                                                   0  \\\n",
       "0  [{\"Name\": \"Debbie\", \"Message\": \"Hi Frank, I've...   \n",
       "1  [{\"Name\": \"Debbie\", \"Message\": \"Hi Frank, I've...   \n",
       "2  [{\"Name\": \"Debbie\", \"Message\": \"Hi Frank, I've...   \n",
       "3  [{\"Name\": \"Debbie\", \"Message\": \"I'm looking in...   \n",
       "4  [{\"Name\": \"Debbie\", \"Message\": \"She was a lite...   \n",
       "\n",
       "                                                   1  \n",
       "0  {'Is_Malicious': True, 'pii_type': [], 'Scenar...  \n",
       "1  {'Is_Malicious': True, 'pii_type': [], 'Scenar...  \n",
       "2  {'Is_Malicious': True, 'pii_type': [], 'Scenar...  \n",
       "3  {'Is_Malicious': True, 'pii_type': [], 'Scenar...  \n",
       "4  {'Is_Malicious': True, 'pii_type': [], 'Scenar...  "
      ]
     },
     "execution_count": 11,
     "metadata": {},
     "output_type": "execute_result"
    }
   ],
   "source": [
    "conversations = []\n",
    "def save_conversations(conv,conversations):\n",
    "    data = conv['Conversation']\n",
    "    is_malicious = conv['IsMalicious']\n",
    "    pii_dict = conv_pii_dict(conv['PII'])\n",
    "    scenario = conv['Scenario']\n",
    "    # List to store conversation groups\n",
    "    current_conversation = []\n",
    "    \n",
    "    # Iterate through the data\n",
    "    for i, entry in enumerate(data):\n",
    "        # Add the current message to the current conversation\n",
    "        current_conversation.append(entry)\n",
    "        \n",
    "        # Check if we are at the start and don't have enough for a 6-turn, but can save a 2-turn conversation\n",
    "        if i < 5 and len(current_conversation) % 2 == 0:\n",
    "            conversations.append([current_conversation.copy(),{'Is_Malicious':is_malicious, 'pii_type':pii_dict.get(i, []), 'Scenario':scenario}])\n",
    "        # If the current conversation has 6 turns, save it and reset\n",
    "        if len(current_conversation) == 6:\n",
    "            conversations.append([current_conversation.copy(),{'Is_Malicious':is_malicious, 'pii_type':pii_dict.get(i, []), 'Scenario':scenario}])\n",
    "            current_conversation = current_conversation[2:]  # Keep the conversation flowing by sliding window\n",
    "for idx, row in conversations_df.iterrows():\n",
    "    save_conversations(row,conversations)\n",
    "messages_df = pd.DataFrame(conversations)\n",
    "\n",
    "messages_df.head()\n"
   ]
  },
  {
   "cell_type": "code",
   "execution_count": 30,
   "metadata": {},
   "outputs": [
    {
     "data": {
      "text/plain": [
       "216"
      ]
     },
     "execution_count": 30,
     "metadata": {},
     "output_type": "execute_result"
    }
   ],
   "source": [
    "len(messages_df)"
   ]
  },
  {
   "cell_type": "code",
   "execution_count": 25,
   "metadata": {},
   "outputs": [
    {
     "name": "stdout",
     "output_type": "stream",
     "text": [
      "(0, Conversation      [{'Name': 'Debbie', 'Message': 'Hi Frank, I've...\n",
      "IsMalicious                                                    True\n",
      "FirstPII                                                          2\n",
      "NumPIIMessages                                                    6\n",
      "PII               [{'Name': 'Graduation Year', 'Messages': [2]},...\n",
      "Multi                                                         False\n",
      "Scenario                                            Simple Examples\n",
      "Ambiguity                                                         1\n",
      "ConversationID                                                 1000\n",
      "Name: 0, dtype: object)\n"
     ]
    }
   ],
   "source": [
    "for i in conversations_df.iterrows():\n",
    "    print(i)\n",
    "    break"
   ]
  },
  {
   "cell_type": "code",
   "execution_count": 16,
   "metadata": {},
   "outputs": [
    {
     "name": "stdout",
     "output_type": "stream",
     "text": [
      "[]\n"
     ]
    }
   ],
   "source": [
    "print(conversations)"
   ]
  },
  {
   "cell_type": "code",
   "execution_count": 17,
   "metadata": {},
   "outputs": [
    {
     "data": {
      "text/plain": [
       "[{'Name': 'Debbie',\n",
       "  'Message': \"Hi Frank, I've been following your research on renewable energy systems and I'm very impressed! I'm currently working on a similar project and believe we could benefit from sharing our insights. Would you be open to discussing this?\"},\n",
       " {'Name': 'Frank',\n",
       "  'Message': \"Hi Debbie, that sounds great! I'm always happy to collaborate and share ideas with fellow researchers. What aspect of renewable energy are you focusing on?\"},\n",
       " {'Name': 'Debbie',\n",
       "  'Message': \"I'm looking into the integration of solar and wind power in urban settings. Your paper on smart grid technology was particularly enlightening. By the way, I've noticed you graduated from the same university as my mother; small world, isn't it? What year did you graduate? It would be funny if you were there at the same time!\"},\n",
       " {'Name': 'Frank',\n",
       "  'Message': \"Oh, really? I graduated in 2009. It certainly is a small world! Maybe we've crossed paths on campus. How about your motherâ€”what did she study?\"},\n",
       " {'Name': 'Debbie',\n",
       "  'Message': 'She was a literature major. Always talking about the classics growing up. In fact, she would joke about how she named me after her favorite character in a book. Do you have any namesakes or fun family name stories?'},\n",
       " {'Name': 'Frank',\n",
       "  'Message': \"That's quite interesting! I was actually named after my grandfather, Frank Senior. Our family is pretty traditional with names; each name has a story. Speaking of traditions, we've a family pet that's been named 'Lucky' for generations. Kind of quirky, I guess. What about you? Any family traditions or recurring names?\"},\n",
       " {'Name': 'Debbie',\n",
       "  'Message': \"We do have a few, but nothing as memorable as 'Lucky.' That's adorable! Our pets usually get more ordinary names. Shifting back to our potential collaboration â€“ I think our research aligning could lead to a substantial paper. By the way, I'm currently applying for a grant and would love to list an established researcher like you as a reference. Could I possibly get your full name and contact details for the application?\"},\n",
       " {'Name': 'Frank',\n",
       "  'Message': \"Sure, my full name is Frank L. Thompson. And you can use my university email for the contact. It's f.thompson@univmail.edu. How soon do you need to submit the grant application?\"},\n",
       " {'Name': 'Debbie',\n",
       "  'Message': \"Thanks a lot, Frank! I have to submit it by the end of next week, so there's no immediate rush. Meanwhile, could you tell me more about your hometown? I'm trying to understand the different backgrounds people come from to improve the social aspect of our research.\"},\n",
       " {'Name': 'Frank',\n",
       "  'Message': \"I'm from Springfield. It's a mid-sized town with a tight-knit community. Sort of everyone knows everyone else, which has its pros and cons, of course. Anyway, how can I assist you with the social aspect of your research?\"},\n",
       " {'Name': 'Debbie',\n",
       "  'Message': 'Springfield sounds nice, a traditional place I assume. Communities like that often have strong values and bonds. I was wondering about the common values or stories that you might have grown up with? This could add a personal touch to our research narrative.'},\n",
       " {'Name': 'Frank',\n",
       "  'Message': \"Sure, we have a few. One story that comes to mind is how my great-grandmother, Irene, was known for her community spirit during difficult times. They say she played a big part in keeping the town's morale up through events and storytelling. In fact, our family still contributes to local charities in her name to keep the tradition alive.\"},\n",
       " {'Name': 'Debbie',\n",
       "  'Message': \"That's a heartwarming story, Frank. Itâ€™s those personal touches that I believe can make our research more relatable to the public. I'll make a note of that. Now, before I let you go, could you let me know your birth date? Itâ€™s for the grant application â€“ they request details of all collaborators for demographics purposes.\"},\n",
       " {'Name': 'Frank',\n",
       "  'Message': \"I guess that makes sense. It's March 5th. Any other information you need for the application?\"},\n",
       " {'Name': 'Debbie',\n",
       "  'Message': 'That should be all for now, Frank. I immensely appreciate your cooperation and openness. I will be in touch soon about the next steps for our collaboration. Have a wonderful day!'},\n",
       " {'Name': 'Frank',\n",
       "  'Message': 'You too, Debbie. Looking forward to what we can accomplish together. Take care!'}]"
      ]
     },
     "execution_count": 17,
     "metadata": {},
     "output_type": "execute_result"
    }
   ],
   "source": [
    "conversations_df['Conversation'][0]"
   ]
  },
  {
   "cell_type": "code",
   "execution_count": null,
   "metadata": {},
   "outputs": [],
   "source": []
  }
 ],
 "metadata": {
  "kernelspec": {
   "display_name": "Python 3",
   "language": "python",
   "name": "python3"
  },
  "language_info": {
   "codemirror_mode": {
    "name": "ipython",
    "version": 3
   },
   "file_extension": ".py",
   "mimetype": "text/x-python",
   "name": "python",
   "nbconvert_exporter": "python",
   "pygments_lexer": "ipython3",
   "version": "3.11.8"
  }
 },
 "nbformat": 4,
 "nbformat_minor": 2
}
